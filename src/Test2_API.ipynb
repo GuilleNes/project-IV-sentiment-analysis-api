{
 "cells": [
  {
   "cell_type": "code",
   "execution_count": 63,
   "id": "adc8028e",
   "metadata": {},
   "outputs": [
    {
     "ename": "ModuleNotFoundError",
     "evalue": "No module named 'tool'",
     "output_type": "error",
     "traceback": [
      "\u001b[1;31m---------------------------------------------------------------------------\u001b[0m",
      "\u001b[1;31mModuleNotFoundError\u001b[0m                       Traceback (most recent call last)",
      "Input \u001b[1;32mIn [63]\u001b[0m, in \u001b[0;36m<cell line: 6>\u001b[1;34m()\u001b[0m\n\u001b[0;32m      4\u001b[0m \u001b[38;5;28;01mimport\u001b[39;00m \u001b[38;5;21;01mmarkdown\u001b[39;00m\u001b[38;5;21;01m.\u001b[39;00m\u001b[38;5;21;01mextensions\u001b[39;00m\u001b[38;5;21;01m.\u001b[39;00m\u001b[38;5;21;01mfenced_code\u001b[39;00m\n\u001b[0;32m      5\u001b[0m \u001b[38;5;28;01mimport\u001b[39;00m \u001b[38;5;21;01mrequests\u001b[39;00m\n\u001b[1;32m----> 6\u001b[0m \u001b[38;5;28;01mfrom\u001b[39;00m \u001b[38;5;21;01mtool\u001b[39;00m \u001b[38;5;28;01mimport\u001b[39;00m sql_queries \u001b[38;5;28;01mas\u001b[39;00m esecuele\n\u001b[0;32m      7\u001b[0m \u001b[38;5;28;01mfrom\u001b[39;00m \u001b[38;5;21;01mnltk\u001b[39;00m\u001b[38;5;21;01m.\u001b[39;00m\u001b[38;5;21;01msentiment\u001b[39;00m\u001b[38;5;21;01m.\u001b[39;00m\u001b[38;5;21;01mvader\u001b[39;00m \u001b[38;5;28;01mimport\u001b[39;00m SentimentIntensityAnalyzer\n\u001b[0;32m      8\u001b[0m sia \u001b[38;5;241m=\u001b[39m SentimentIntensityAnalyzer()\n",
      "\u001b[1;31mModuleNotFoundError\u001b[0m: No module named 'tool'"
     ]
    }
   ],
   "source": [
    "from flask import Flask, request, jsonify\n",
    "import random\n",
    "import numpy as np\n",
    "import markdown.extensions.fenced_code\n",
    "import requests\n",
    "from tool import sql_queries as esecuele\n",
    "from nltk.sentiment.vader import SentimentIntensityAnalyzer\n",
    "sia = SentimentIntensityAnalyzer()\n",
    "\n",
    "\n",
    "# from config.sql_connection import engine\n",
    "import pandas as pd"
   ]
  },
  {
   "cell_type": "code",
   "execution_count": 10,
   "id": "69931d3d",
   "metadata": {},
   "outputs": [],
   "source": [
    "def get_everything ():\n",
    "    query = \"\"\"SELECT * FROM users;\"\"\"\n",
    "    df = pd.read_sql_query(query, engine)\n",
    "    return df.to_dict(orient=\"records\")\n",
    "\n",
    "def get_everything_from_character (name):\n",
    "    query = f\"\"\"SELECT * \n",
    "    FROM users\n",
    "    WHERE character_name = '{name}';\"\"\"\n",
    "\n",
    "    df = pd.read_sql_query(query, engine)\n",
    "    return df.to_dict(orient=\"records\")\n",
    "\n",
    "def get_just_dialogue (name):\n",
    "    query = f\"\"\"SELECT dialogue \n",
    "    FROM users\n",
    "    WHERE character_name = '{name}';\"\"\"\n",
    "\n",
    "    df = pd.read_sql_query(query, engine)\n",
    "    return df.to_dict(orient=\"records\")\n",
    "\n",
    "def insert_one_row (scene, character_name, dialogue):\n",
    "    query = f\"\"\"INSERT INTO users\n",
    "     (scene, character_name, dialogue) \n",
    "        VALUES ({scene}, '{character_name}', '{dialogue}');\n",
    "    \"\"\"\n",
    "    engine.execute(query)\n",
    "    return f\"Correctly introduced!\""
   ]
  },
  {
   "cell_type": "code",
   "execution_count": 13,
   "id": "1e34d33a",
   "metadata": {},
   "outputs": [
    {
     "name": "stdout",
     "output_type": "stream",
     "text": [
      " * Serving Flask app '__main__' (lazy loading)\n",
      " * Environment: production\n",
      "   WARNING: This is a development server. Do not use it in a production deployment.\n",
      "   Use a production WSGI server instead.\n",
      " * Debug mode: on\n"
     ]
    },
    {
     "name": "stderr",
     "output_type": "stream",
     "text": [
      " * Restarting with stat\n"
     ]
    },
    {
     "ename": "SystemExit",
     "evalue": "1",
     "output_type": "error",
     "traceback": [
      "An exception has occurred, use %tb to see the full traceback.\n",
      "\u001b[1;31mSystemExit\u001b[0m\u001b[1;31m:\u001b[0m 1\n"
     ]
    }
   ],
   "source": [
    "\n",
    "\n",
    "\n",
    "app = Flask(__name__)\n",
    "\n",
    "# Render the markdwon\n",
    "@app.route(\"/\")\n",
    "def readme ():\n",
    "    readme_file = open(\"README.md\", \"r\")\n",
    "    return markdown.markdown(readme_file.read(), extensions = [\"fenced_code\"])\n",
    "\n",
    "# GET ENDPOINTS: SQL \n",
    "# SQL get everything\n",
    "@app.route(\"/sql/\")\n",
    "def sql ():\n",
    "    return jsonify(esecuele.get_everything())\n",
    "\n",
    "@app.route(\"/sql/<name>\", )\n",
    "def lines_from_characters (name):\n",
    "    return jsonify(esecuele.get_everything_from_character(name))\n",
    "\n",
    "\n",
    "@app.route(\"/sa/<name>/\", )\n",
    "def sa_from_character (name):\n",
    "    everything = esecuele.get_just_dialogue(name)\n",
    "    #return jsonify(everything)\n",
    "    return jsonify([sia.polarity_scores(i[\"dialogue\"])[\"compound\"] for i in everything])\n",
    "\n",
    "\n",
    "####### POST\n",
    "@app.route(\"/insertrow\", methods=[\"POST\"])\n",
    "def try_post ():\n",
    "    # Decoding params\n",
    "    my_params = request.args\n",
    "    scene = my_params[\"scene\"]\n",
    "    character_name = my_params[\"character_name\"]\n",
    "    dialogue = my_params[\"dialogue\"]\n",
    "\n",
    "    # Passing to my function: do the inserr\n",
    "    esecuele.insert_one_row(scene, character_name, dialogue)\n",
    "    return f\"Query succesfully inserted\"\n",
    "\n",
    "\n",
    "if __name__ == \"__main__\":\n",
    "    app.run(port=5000, debug=True)"
   ]
  },
  {
   "cell_type": "code",
   "execution_count": null,
   "id": "d59a27e0",
   "metadata": {},
   "outputs": [],
   "source": []
  },
  {
   "cell_type": "code",
   "execution_count": null,
   "id": "0f1361bb",
   "metadata": {},
   "outputs": [],
   "source": []
  },
  {
   "cell_type": "code",
   "execution_count": null,
   "id": "97096363",
   "metadata": {},
   "outputs": [],
   "source": []
  },
  {
   "cell_type": "code",
   "execution_count": null,
   "id": "b29c0a0d",
   "metadata": {},
   "outputs": [],
   "source": []
  },
  {
   "cell_type": "code",
   "execution_count": null,
   "id": "f1199728",
   "metadata": {},
   "outputs": [],
   "source": []
  },
  {
   "cell_type": "code",
   "execution_count": null,
   "id": "82847c3a",
   "metadata": {},
   "outputs": [],
   "source": []
  },
  {
   "cell_type": "code",
   "execution_count": null,
   "id": "4fa4ae6c",
   "metadata": {},
   "outputs": [],
   "source": []
  },
  {
   "cell_type": "code",
   "execution_count": null,
   "id": "f2e1734c",
   "metadata": {},
   "outputs": [],
   "source": []
  },
  {
   "cell_type": "code",
   "execution_count": null,
   "id": "c243898b",
   "metadata": {},
   "outputs": [],
   "source": []
  }
 ],
 "metadata": {
  "kernelspec": {
   "display_name": "Python 3 (ipykernel)",
   "language": "python",
   "name": "python3"
  },
  "language_info": {
   "codemirror_mode": {
    "name": "ipython",
    "version": 3
   },
   "file_extension": ".py",
   "mimetype": "text/x-python",
   "name": "python",
   "nbconvert_exporter": "python",
   "pygments_lexer": "ipython3",
   "version": "3.9.13"
  }
 },
 "nbformat": 4,
 "nbformat_minor": 5
}
