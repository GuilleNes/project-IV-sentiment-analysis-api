{
 "cells": [
  {
   "cell_type": "code",
   "execution_count": 2,
   "id": "aa8f7107",
   "metadata": {},
   "outputs": [],
   "source": [
    "import requests as re\n"
   ]
  },
  {
   "cell_type": "code",
   "execution_count": 4,
   "id": "b4162784",
   "metadata": {},
   "outputs": [],
   "source": [
    "name = \"william\""
   ]
  },
  {
   "cell_type": "code",
   "execution_count": 12,
   "id": "4a1db2a1",
   "metadata": {},
   "outputs": [
    {
     "name": "stdout",
     "output_type": "stream",
     "text": [
      "Which name would you like to look for: king\n"
     ]
    }
   ],
   "source": [
    "name = input(\"Which name would you like to look for: \")\n",
    "url = f\"http://127.0.0.1:9000/sql/people/{name}\"\n",
    "df_name = re.get(url)"
   ]
  },
  {
   "cell_type": "code",
   "execution_count": 13,
   "id": "f697cbbc",
   "metadata": {},
   "outputs": [
    {
     "data": {
      "text/plain": [
       "[{'king': 0.047}]"
      ]
     },
     "execution_count": 13,
     "metadata": {},
     "output_type": "execute_result"
    }
   ],
   "source": [
    "df_name.json()"
   ]
  },
  {
   "cell_type": "code",
   "execution_count": null,
   "id": "ba7306d0",
   "metadata": {},
   "outputs": [],
   "source": []
  },
  {
   "cell_type": "code",
   "execution_count": null,
   "id": "a45da0ab",
   "metadata": {},
   "outputs": [],
   "source": []
  },
  {
   "cell_type": "code",
   "execution_count": null,
   "id": "56848ae5",
   "metadata": {},
   "outputs": [],
   "source": []
  },
  {
   "cell_type": "code",
   "execution_count": null,
   "id": "c63ad028",
   "metadata": {},
   "outputs": [],
   "source": []
  },
  {
   "cell_type": "code",
   "execution_count": null,
   "id": "ad7d7295",
   "metadata": {},
   "outputs": [],
   "source": []
  },
  {
   "cell_type": "code",
   "execution_count": null,
   "id": "bd27cb98",
   "metadata": {},
   "outputs": [],
   "source": []
  },
  {
   "cell_type": "code",
   "execution_count": null,
   "id": "7fc18123",
   "metadata": {},
   "outputs": [],
   "source": []
  },
  {
   "cell_type": "code",
   "execution_count": null,
   "id": "4b3b98a7",
   "metadata": {},
   "outputs": [],
   "source": []
  }
 ],
 "metadata": {
  "kernelspec": {
   "display_name": "Python 3 (ipykernel)",
   "language": "python",
   "name": "python3"
  },
  "language_info": {
   "codemirror_mode": {
    "name": "ipython",
    "version": 3
   },
   "file_extension": ".py",
   "mimetype": "text/x-python",
   "name": "python",
   "nbconvert_exporter": "python",
   "pygments_lexer": "ipython3",
   "version": "3.9.13"
  }
 },
 "nbformat": 4,
 "nbformat_minor": 5
}
